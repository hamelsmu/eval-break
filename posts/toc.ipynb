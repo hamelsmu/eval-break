{
 "cells": [
  {
   "cell_type": "markdown",
   "id": "04b59a7c",
   "metadata": {},
   "source": [
    "# TOC Test"
   ]
  },
  {
   "cell_type": "code",
   "execution_count": 3,
   "id": "39dd1ca7",
   "metadata": {},
   "outputs": [
    {
     "data": {
      "text/markdown": [
       "\n",
       "## Hello This is a Test Of Markdown Output\n",
       "\n",
       "Some other stuff here\n",
       "\n",
       "### If this doesn't appear in the TOC could be a bug.\n",
       "        "
      ],
      "text/plain": [
       "<__main__.Foo at 0x7f9cb80576a0>"
      ]
     },
     "execution_count": 3,
     "metadata": {},
     "output_type": "execute_result"
    }
   ],
   "source": [
    "class Foo:\n",
    "    def __init__(self): ...\n",
    "    def _repr_markdown_(self):\n",
    "        return \"\"\"\n",
    "## Hello This is a Test Of Markdown Output\n",
    "\n",
    "Some other stuff here\n",
    "\n",
    "### If this doesn't appear in the TOC could be a bug.\n",
    "        \"\"\"\n",
    "\n",
    "Foo()"
   ]
  },
  {
   "cell_type": "markdown",
   "id": "a38843d9-4fa3-40f3-bb4d-949344b2bdee",
   "metadata": {},
   "source": [
    "You can use `lorem ipsum` to document apis."
   ]
  },
  {
   "cell_type": "code",
   "execution_count": 5,
   "id": "1e90fea3",
   "metadata": {},
   "outputs": [
    {
     "name": "stdout",
     "output_type": "stream",
     "text": [
      "hello\n"
     ]
    }
   ],
   "source": [
    "print('hello')"
   ]
  }
 ],
 "metadata": {
  "interpreter": {
   "hash": "42fd40e048e0585f88ec242f050f7ef0895cf845a8dd1159352394e5826cd102"
  },
  "kernelspec": {
   "display_name": "Python 3.9.7 ('base')",
   "language": "python",
   "name": "python3"
  },
  "language_info": {
   "codemirror_mode": {
    "name": "ipython",
    "version": 3
   },
   "file_extension": ".py",
   "mimetype": "text/x-python",
   "name": "python",
   "nbconvert_exporter": "python",
   "pygments_lexer": "ipython3",
   "version": "3.9.7"
  }
 },
 "nbformat": 4,
 "nbformat_minor": 5
}
